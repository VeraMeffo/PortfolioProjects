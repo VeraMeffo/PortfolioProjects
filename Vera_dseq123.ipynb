{
 "cells": [
  {
   "cell_type": "markdown",
   "id": "8e49f529",
   "metadata": {},
   "source": [
    "# Import necessary libaries"
   ]
  },
  {
   "cell_type": "code",
   "execution_count": 20,
   "id": "e4c00f08",
   "metadata": {},
   "outputs": [],
   "source": [
    "import numpy as np\n",
    "import pandas as pd\n",
    "import matplotlib.pyplot as plt\n",
    "import seaborn as sns"
   ]
  },
  {
   "cell_type": "markdown",
   "id": "e08ce136",
   "metadata": {},
   "source": [
    "### Load the dataset"
   ]
  },
  {
   "cell_type": "code",
   "execution_count": 21,
   "id": "a001e48e",
   "metadata": {},
   "outputs": [],
   "source": [
    "data_f= pd.read_csv(\"good dataset1.csv\")\n",
    "\n"
   ]
  },
  {
   "cell_type": "markdown",
   "id": "b4dbf632",
   "metadata": {},
   "source": [
    "### Drop columns with  missing data"
   ]
  },
  {
   "cell_type": "code",
   "execution_count": 22,
   "id": "3aaa202a",
   "metadata": {},
   "outputs": [],
   "source": [
    "data_f=data_f.dropna(axis=1, how='all')\n"
   ]
  },
  {
   "cell_type": "markdown",
   "id": "9648d4e3",
   "metadata": {},
   "source": [
    "### Transformation of data frame from a wide format to a long format"
   ]
  },
  {
   "cell_type": "code",
   "execution_count": 23,
   "id": "a8b1cc2c",
   "metadata": {},
   "outputs": [],
   "source": [
    "df = data_f.melt(id_vars = 'Ward name', var_name = 'Year', value_name = 'Price')\n",
    "df=df.replace(',','', regex=True)\n"
   ]
  },
  {
   "cell_type": "markdown",
   "id": "d88c4695",
   "metadata": {},
   "source": [
    "### Drop columns with  missing data"
   ]
  },
  {
   "cell_type": "code",
   "execution_count": 24,
   "id": "880c0e45",
   "metadata": {},
   "outputs": [],
   "source": [
    "df=df.dropna(axis=0)\n"
   ]
  },
  {
   "cell_type": "code",
   "execution_count": 6,
   "id": "232856a0",
   "metadata": {},
   "outputs": [
    {
     "name": "stdout",
     "output_type": "stream",
     "text": [
      "<class 'pandas.core.frame.DataFrame'>\n",
      "Index: 225115 entries, 0 to 225483\n",
      "Data columns (total 3 columns):\n",
      " #   Column     Non-Null Count   Dtype \n",
      "---  ------     --------------   ----- \n",
      " 0   Ward name  225115 non-null  object\n",
      " 1   Year       225115 non-null  object\n",
      " 2   Price      225115 non-null  object\n",
      "dtypes: object(3)\n",
      "memory usage: 6.9+ MB\n",
      "None\n"
     ]
    }
   ],
   "source": [
    "print(df.info())\n"
   ]
  },
  {
   "cell_type": "code",
   "execution_count": 7,
   "id": "17549e94",
   "metadata": {},
   "outputs": [
    {
     "name": "stdout",
     "output_type": "stream",
     "text": [
      "Index(['Ward name', 'Year', 'Price'], dtype='object')\n"
     ]
    }
   ],
   "source": [
    "print(df.columns)"
   ]
  },
  {
   "cell_type": "code",
   "execution_count": 8,
   "id": "1f09ae61",
   "metadata": {},
   "outputs": [
    {
     "data": {
      "text/html": [
       "<div>\n",
       "<style scoped>\n",
       "    .dataframe tbody tr th:only-of-type {\n",
       "        vertical-align: middle;\n",
       "    }\n",
       "\n",
       "    .dataframe tbody tr th {\n",
       "        vertical-align: top;\n",
       "    }\n",
       "\n",
       "    .dataframe thead th {\n",
       "        text-align: right;\n",
       "    }\n",
       "</style>\n",
       "<table border=\"1\" class=\"dataframe\">\n",
       "  <thead>\n",
       "    <tr style=\"text-align: right;\">\n",
       "      <th></th>\n",
       "      <th>Ward name</th>\n",
       "      <th>Year</th>\n",
       "      <th>Price</th>\n",
       "    </tr>\n",
       "  </thead>\n",
       "  <tbody>\n",
       "    <tr>\n",
       "      <th>count</th>\n",
       "      <td>225115</td>\n",
       "      <td>225115</td>\n",
       "      <td>225115</td>\n",
       "    </tr>\n",
       "    <tr>\n",
       "      <th>unique</th>\n",
       "      <td>7461</td>\n",
       "      <td>28</td>\n",
       "      <td>13444</td>\n",
       "    </tr>\n",
       "    <tr>\n",
       "      <th>top</th>\n",
       "      <td>Castle</td>\n",
       "      <td>2022</td>\n",
       "      <td>250000</td>\n",
       "    </tr>\n",
       "    <tr>\n",
       "      <th>freq</th>\n",
       "      <td>588</td>\n",
       "      <td>8047</td>\n",
       "      <td>2405</td>\n",
       "    </tr>\n",
       "  </tbody>\n",
       "</table>\n",
       "</div>"
      ],
      "text/plain": [
       "       Ward name    Year   Price\n",
       "count     225115  225115  225115\n",
       "unique      7461      28   13444\n",
       "top       Castle    2022  250000\n",
       "freq         588    8047    2405"
      ]
     },
     "execution_count": 8,
     "metadata": {},
     "output_type": "execute_result"
    }
   ],
   "source": [
    "df.describe()"
   ]
  },
  {
   "cell_type": "markdown",
   "id": "11cf25e7",
   "metadata": {},
   "source": [
    "### bar chart for number of houses sold per year"
   ]
  },
  {
   "cell_type": "code",
   "execution_count": 25,
   "id": "1bbda04b",
   "metadata": {},
   "outputs": [],
   "source": [
    "# # Group data by year and count number of rows in each group\n",
    "# counts = df.groupby('Year')['Price'].count()\n",
    "\n",
    "# # bar chart plot\n",
    "# plt.bar(counts.index, counts.values, color='c')\n",
    "\n",
    "# plt.title('Number of House Sold by Year')\n",
    "# plt.xlabel('Year')\n",
    "# plt.xticks(rotation = 90)\n",
    "# plt.ylabel('Number of Sales')\n",
    "# plt.show()\n"
   ]
  },
  {
   "cell_type": "markdown",
   "id": "0a164f99",
   "metadata": {},
   "source": [
    "### bar chart for the average House Prices per Year"
   ]
  },
  {
   "cell_type": "code",
   "execution_count": 26,
   "id": "fb6bb9b7",
   "metadata": {},
   "outputs": [],
   "source": [
    "#fig = plt.figure(figsize =(14, 7))\n",
    "#df = df.explode('Price',ignore_index=False)\n",
    "#sns.boxplot(data=df, x=df['Year'], y=df['Price'].astype(float))\n",
    "#sns.violinplot(data=df, x=df['Year'], y=df['Price'].astype(float))\n"
   ]
  },
  {
   "cell_type": "markdown",
   "id": "761e9b3e",
   "metadata": {},
   "source": [
    "### Group the rows of data by  values in 'Wardname'"
   ]
  },
  {
   "cell_type": "code",
   "execution_count": 27,
   "id": "8b30d4d3",
   "metadata": {},
   "outputs": [],
   "source": [
    "df.columns=['Wardname', 'Year', 'Price']\n",
    "g=df.groupby('Wardname')\n",
    "#g"
   ]
  },
  {
   "cell_type": "code",
   "execution_count": 28,
   "id": "443e4612",
   "metadata": {},
   "outputs": [
    {
     "ename": "SyntaxError",
     "evalue": "incomplete input (1340861896.py, line 3)",
     "output_type": "error",
     "traceback": [
      "\u001b[1;36m  Cell \u001b[1;32mIn[28], line 3\u001b[1;36m\u001b[0m\n\u001b[1;33m    # print(Wardname_df)\u001b[0m\n\u001b[1;37m                        ^\u001b[0m\n\u001b[1;31mSyntaxError\u001b[0m\u001b[1;31m:\u001b[0m incomplete input\n"
     ]
    }
   ],
   "source": [
    "for Wardname,Wardname_df in g:\n",
    "    # print(Wardname)\n",
    "    # print(Wardname_df)"
   ]
  },
  {
   "cell_type": "markdown",
   "id": "d773431a",
   "metadata": {},
   "source": [
    "### Box plot for earch Ward"
   ]
  },
  {
   "cell_type": "code",
   "execution_count": 29,
   "id": "c4e18484",
   "metadata": {},
   "outputs": [],
   "source": [
    "# Iterate over each group and create a box plot\n",
    "# for Wardname, Wardname_df in g:\n",
    "#     sns.boxplot(data=Wardname_df, x='Wardname', y=Wardname_df['Price'].astype('float'))\n",
    "#     plt.title(Wardname)\n",
    "#     plt.xlabel(Wardname)\n",
    "#     plt.show()\n"
   ]
  },
  {
   "cell_type": "code",
   "execution_count": 31,
   "id": "4000bf66",
   "metadata": {},
   "outputs": [],
   "source": [
    "# box plot of each Ward side by side\n",
    "# fig, axs = plt.subplots(ncols=4, nrows=3, figsize=(15, 15))\n",
    "# axs = axs.flatten()\n",
    "\n",
    "# g = df.groupby('Wardname')\n",
    "\n",
    "# for i, (wardname, wardname_df) in enumerate(g):\n",
    "#     sns.boxplot(x='Wardname',y=df['Price'].astype(float), data=wardname_df, ax=axs[i])\n",
    "#     axs[i].set_title(wardname)\n",
    "\n",
    "\n",
    "# plt.show()\n",
    "\n",
    "\n"
   ]
  },
  {
   "cell_type": "markdown",
   "id": "a3953c73",
   "metadata": {},
   "source": [
    "### Data analysis and data visualization for each group"
   ]
  },
  {
   "cell_type": "code",
   "execution_count": 32,
   "id": "63883698",
   "metadata": {},
   "outputs": [],
   "source": [
    "Abbey=g.get_group('Abbey')\n",
    "#Abbey"
   ]
  },
  {
   "cell_type": "code",
   "execution_count": 33,
   "id": "84a78536",
   "metadata": {},
   "outputs": [],
   "source": [
    "# Abbey's bar chart\n",
    "# plt.bar(Abbey.Year, Abbey.Price,color='y')\n",
    "\n",
    "\n",
    "# plt.xlabel('Year')\n",
    "# # Rotate x-axis labels to avoid overlap\n",
    "# plt.xticks(rotation = 90)\n",
    "# plt.ylabel('Price')\n",
    "# plt.title('Abbey bar chart')\n",
    "# plt.show()\n"
   ]
  },
  {
   "cell_type": "markdown",
   "id": "a4bf7d91",
   "metadata": {},
   "source": [
    "### Abbey'scatter plot"
   ]
  },
  {
   "cell_type": "code",
   "execution_count": 34,
   "id": "7b2bdaab",
   "metadata": {},
   "outputs": [],
   "source": [
    "# plt.scatter(Abbey.Year,Abbey.Price)\n",
    "# plt.title('Abbey scatter plot')\n",
    "# plt.xlabel('Year')\n",
    "# plt.xticks(rotation = 90)\n",
    "# plt.ylabel('Price')\n",
    "# plt.show()\n",
    "\n"
   ]
  },
  {
   "cell_type": "markdown",
   "id": "0e0c7c03",
   "metadata": {},
   "source": [
    "# linear regression on Abbey data"
   ]
  },
  {
   "cell_type": "code",
   "execution_count": 35,
   "id": "1be6609e",
   "metadata": {},
   "outputs": [
    {
     "name": "stdout",
     "output_type": "stream",
     "text": [
      "MSE: 6544616979.12\n",
      "R2 score: 0.44\n",
      "Mean Absolute Error: 54930.98046783376\n",
      "coefficient [8892.30160441]\n",
      "intercept -17689048.08271757\n"
     ]
    }
   ],
   "source": [
    "from sklearn import linear_model\n",
    "from sklearn.linear_model import LinearRegression\n",
    "from sklearn.metrics import mean_squared_error\n",
    "from sklearn.metrics import  r2_score\n",
    "from sklearn.metrics import mean_absolute_error\n",
    "# split the data\n",
    "df1=Abbey.drop('Wardname', axis=1)\n",
    "X_Abbey=df1.drop('Price', axis=1)\n",
    "y_Abbey=df1['Price']\n",
    "\n",
    "# creat a linear regression model\n",
    "lreg=linear_model.LinearRegression()\n",
    "lreg.fit(X_Abbey,y_Abbey) # fitting the model to the  data\n",
    "a = lreg.coef_\n",
    "c = lreg.intercept_\n",
    "predAbbey= lreg.predict(X_Abbey)\n",
    "\n",
    "# Mean squared error (MSE)\n",
    "print('MSE: %.2f' % mean_squared_error(y_Abbey, predAbbey))\n",
    "\n",
    "# R2 score (coefficient of determination)\n",
    "print('R2 score: %.2f' % r2_score(y_Abbey, predAbbey))\n",
    "\n",
    "#Calculate the mean absolute error\n",
    "print(\"Mean Absolute Error:\", mean_absolute_error(y_Abbey, predAbbey))\n",
    "print('coefficient',a)\n",
    "print('intercept',c)"
   ]
  },
  {
   "cell_type": "code",
   "execution_count": 36,
   "id": "1f340aeb",
   "metadata": {},
   "outputs": [
    {
     "name": "stdout",
     "output_type": "stream",
     "text": [
      "Each increase of one year causes an increase of [8892.30160441]  in the price.\n"
     ]
    }
   ],
   "source": [
    "print('Each increase of one year causes an increase of', a,' in the price.')"
   ]
  },
  {
   "cell_type": "markdown",
   "id": "2f4c13d2",
   "metadata": {},
   "source": [
    "### Plot actual and predicted values"
   ]
  },
  {
   "cell_type": "code",
   "execution_count": 37,
   "id": "6201bda2",
   "metadata": {},
   "outputs": [],
   "source": [
    "# Abbey.Price = Abbey.Price.astype(float)\n",
    "# predAbbey = predAbbey.astype(float)\n",
    "\n",
    "# # Plot actual and predicted values\n",
    "# plt.scatter(Abbey.Year, Abbey.Price, color='black', label='Actual')\n",
    "# plt.plot(Abbey.Year, predAbbey, color='red', linewidth=3, label='Predicted')\n",
    "\n",
    "# plt.xticks(rotation=90)\n",
    "# plt.title('Actual and Predicted Values')\n",
    "# plt.xlabel('Year')\n",
    "# plt.ylabel('Price')\n",
    "# plt.legend()\n",
    "\n",
    "# plt.show()"
   ]
  },
  {
   "cell_type": "markdown",
   "id": "76f0408a",
   "metadata": {},
   "source": [
    "### compare the actual and predicted price"
   ]
  },
  {
   "cell_type": "code",
   "execution_count": 38,
   "id": "4e00dfbb",
   "metadata": {},
   "outputs": [],
   "source": [
    "comparison = pd.DataFrame({'Actual': Abbey.Price, 'Predicted': predAbbey})  \n",
    "#comparison"
   ]
  },
  {
   "cell_type": "code",
   "execution_count": 39,
   "id": "be71d7c5",
   "metadata": {},
   "outputs": [
    {
     "name": "stderr",
     "output_type": "stream",
     "text": [
      "C:\\Users\\vmeff\\anaconda3\\Lib\\site-packages\\sklearn\\base.py:439: UserWarning: X does not have valid feature names, but LinearRegression was fitted with feature names\n",
      "  warnings.warn(\n"
     ]
    },
    {
     "data": {
      "text/plain": [
       "array([291185.76139162])"
      ]
     },
     "execution_count": 39,
     "metadata": {},
     "output_type": "execute_result"
    }
   ],
   "source": [
    "lreg.predict([[2022]])"
   ]
  },
  {
   "cell_type": "code",
   "execution_count": 199,
   "id": "e27fe862",
   "metadata": {},
   "outputs": [
    {
     "name": "stdout",
     "output_type": "stream",
     "text": [
      "According to the model, the house price in 2025 at Abbey will be  [317862.66620484]\n"
     ]
    },
    {
     "name": "stderr",
     "output_type": "stream",
     "text": [
      "C:\\ProgramData\\Anaconda3\\lib\\site-packages\\sklearn\\base.py:450: UserWarning: X does not have valid feature names, but LinearRegression was fitted with feature names\n",
      "  warnings.warn(\n"
     ]
    }
   ],
   "source": [
    "print('According to the model, the house price in 2025 at Abbey will be ',lreg.predict([[2025]]))"
   ]
  },
  {
   "cell_type": "code",
   "execution_count": 40,
   "id": "a3c2b851",
   "metadata": {},
   "outputs": [],
   "source": [
    "# plt.scatter(Abbey.Price, predAbbey)\n",
    "# plt.title('Actual vs. Predicted Values for Abbey Dataset')\n",
    "# plt.xlabel('Actual Price')\n",
    "# plt.ylabel('Predicted Price')\n",
    "# plt.show()\n"
   ]
  },
  {
   "cell_type": "markdown",
   "id": "10a5da47",
   "metadata": {},
   "source": [
    "## Polynomial regression for Abbey data"
   ]
  },
  {
   "cell_type": "code",
   "execution_count": 43,
   "id": "bcd27e7d",
   "metadata": {},
   "outputs": [
    {
     "name": "stdout",
     "output_type": "stream",
     "text": [
      "MSE: 6542024965.50\n",
      "R2 score: 0.44\n",
      "Mean Absolute Error: 54873.574455841976\n"
     ]
    }
   ],
   "source": [
    "from sklearn.preprocessing import PolynomialFeatures\n",
    "\n",
    "# Create polynomial features with degree 2\n",
    "poly = PolynomialFeatures(degree=2)\n",
    "X_poly = poly.fit_transform(X_Abbey)\n",
    "\n",
    "# Fit linear regression model to the polynomial features\n",
    "poly_reg = LinearRegression()\n",
    "poly_reg.fit(X_poly, y_Abbey)\n",
    "\n",
    "# Predict on the polynomial features\n",
    "predAb = poly_reg.predict(X_poly)\n",
    "\n",
    "# Mean squared error (MSE)\n",
    "print('MSE: %.2f' % mean_squared_error(y_Abbey, predAb))\n",
    "\n",
    "# R2 score (coefficient of determination)\n",
    "print('R2 score: %.2f' % r2_score(y_Abbey, predAb))\n",
    "\n",
    "#Calculate the mean absolute error\n",
    "print(\"Mean Absolute Error:\", mean_absolute_error(y_Abbey, predAb))"
   ]
  },
  {
   "cell_type": "code",
   "execution_count": 44,
   "id": "8965f30c",
   "metadata": {},
   "outputs": [
    {
     "name": "stdout",
     "output_type": "stream",
     "text": [
      "The coefficients are  [ 0.00000000e+00  1.19919285e+05 -2.76392790e+01]\n",
      "Intercept = -129186093.05755559\n"
     ]
    }
   ],
   "source": [
    "coef=poly_reg.coef_\n",
    "print('The coefficients are ',coef)\n",
    "inter=poly_reg.intercept_\n",
    "print('Intercept =',inter)"
   ]
  },
  {
   "cell_type": "code",
   "execution_count": 45,
   "id": "94b17780",
   "metadata": {},
   "outputs": [],
   "source": [
    "# predAb = predAb.astype(float)\n",
    "\n",
    "# # Plot actual and predicted values\n",
    "# plt.scatter(Abbey.Year, Abbey.Price, color='black', label='Actual')\n",
    "# plt.plot(Abbey.Year, predAb, color='blue', linewidth=3, label='Predicted')\n",
    "\n",
    "\n",
    "\n",
    "# # Rotate x-axis labels to avoid overlap\n",
    "# plt.xticks(rotation=90)\n",
    "\n",
    "# plt.title('Actual and Predicted Values')\n",
    "# plt.xlabel('Year')\n",
    "# plt.ylabel('Price')\n",
    "# plt.legend()\n",
    "\n",
    "# plt.show()\n",
    "\n"
   ]
  },
  {
   "cell_type": "markdown",
   "id": "d2247434",
   "metadata": {},
   "source": [
    "# Random Forest"
   ]
  },
  {
   "cell_type": "code",
   "execution_count": 46,
   "id": "89c61529",
   "metadata": {},
   "outputs": [
    {
     "name": "stdout",
     "output_type": "stream",
     "text": [
      "MSE: 6315909570.08\n",
      "R2 score: 0.46\n",
      "Mean Absolute Error: 53141.19735562492\n"
     ]
    }
   ],
   "source": [
    "from sklearn.ensemble import RandomForestRegressor\n",
    "from sklearn.metrics import accuracy_score\n",
    "\n",
    "# create random forest regressor object\n",
    "rf = RandomForestRegressor(n_estimators=100, random_state=42)\n",
    "\n",
    "# fit the model\n",
    "rf.fit(X_Abbey, y_Abbey)\n",
    "\n",
    "# predict on the same data\n",
    "y_predd = rf.predict(X_Abbey)\n",
    "\n",
    "print('MSE: %.2f' % mean_squared_error(Abbey.Price, y_predd))\n",
    "print('R2 score: %.2f' % r2_score(Abbey.Price, y_predd))\n",
    "print(\"Mean Absolute Error:\", mean_absolute_error(Abbey.Price, y_predd))\n"
   ]
  },
  {
   "cell_type": "code",
   "execution_count": 47,
   "id": "c25c4bda",
   "metadata": {},
   "outputs": [],
   "source": [
    "# y_predd = y_predd.astype(float)\n",
    "# plt.scatter(Abbey.Year, Abbey.Price, color='b', label='Actual')\n",
    "# plt.plot(Abbey.Year, y_predd, color='g', linewidth=5, label='Predicted')\n",
    "\n",
    "# plt.xticks(rotation=90)\n",
    "# plt.title('Actual vs. Predicted Values for Abbey  (Randomforest)')\n",
    "# plt.xlabel('Year')\n",
    "# plt.ylabel('Price')\n",
    "# plt.legend()\n",
    "# plt.show()"
   ]
  },
  {
   "cell_type": "code",
   "execution_count": 48,
   "id": "19ff4590",
   "metadata": {},
   "outputs": [],
   "source": [
    "Ab_Hill=g.get_group('Abbey Hill')\n",
    "#Ab_Hill"
   ]
  },
  {
   "cell_type": "markdown",
   "id": "03382c7b",
   "metadata": {},
   "source": [
    "### Abbey Hill bar chart"
   ]
  },
  {
   "cell_type": "code",
   "execution_count": 49,
   "id": "a9abbbfb",
   "metadata": {},
   "outputs": [],
   "source": [
    "# plt.bar(Ab_Hill.Year, Ab_Hill.Price,color='y')\n",
    "\n",
    "# plt.xlabel('Year')\n",
    "# plt.xticks(rotation = 90)\n",
    "# plt.ylabel('Price')\n",
    "# plt.title('Abbey Hill bar chart')\n",
    "# plt.show()"
   ]
  },
  {
   "cell_type": "code",
   "execution_count": 50,
   "id": "d7463b46",
   "metadata": {},
   "outputs": [],
   "source": [
    "# plt.scatter(Ab_Hill.Year, Ab_Hill.Price,color='y')\n",
    "\n",
    "# plt.xlabel('Year')\n",
    "# plt.xticks(rotation = 90)\n",
    "# plt.ylabel('Price')\n",
    "# plt.title('Abbey Hill bar chart')\n",
    "# plt.show()"
   ]
  },
  {
   "cell_type": "markdown",
   "id": "f412ba7b",
   "metadata": {},
   "source": [
    "### Abbey Hill box plot"
   ]
  },
  {
   "cell_type": "code",
   "execution_count": 51,
   "id": "b9122476",
   "metadata": {},
   "outputs": [],
   "source": [
    "# fig = plt.figure(figsize =(6, 6))\n",
    "# ds = Ab_Hill.explode('Price')\n",
    "# ds['Price'] = ds['Price'].astype('float')\n",
    "# sns.boxplot(data=ds, x='Wardname', y='Price')"
   ]
  },
  {
   "cell_type": "markdown",
   "id": "fec44233",
   "metadata": {},
   "source": [
    "# Linear regrssion for the Abbey Hill data"
   ]
  },
  {
   "cell_type": "code",
   "execution_count": 52,
   "id": "e5bd2c2c",
   "metadata": {},
   "outputs": [
    {
     "name": "stdout",
     "output_type": "stream",
     "text": [
      "MSE: 205833030.66\n",
      "R2 score: 0.80\n",
      "Mean Absolute Error: 10066.831124403747\n"
     ]
    }
   ],
   "source": [
    "dfh = Ab_Hill.drop('Wardname', axis=1)\n",
    "X = dfh.drop('Price', axis=1)\n",
    "y = dfh['Price']\n",
    "\n",
    "lr = linear_model.LinearRegression()\n",
    "lr.fit(X, y)  # fitting the model to the data\n",
    "predAH = lr.predict(X)\n",
    "\n",
    "print('MSE: %.2f' % mean_squared_error(y, predAH))\n",
    "print('R2 score: %.2f' % r2_score( y,predAH))\n",
    "print(\"Mean Absolute Error:\", mean_absolute_error(y, predAH))\n"
   ]
  },
  {
   "cell_type": "code",
   "execution_count": 53,
   "id": "43460ff3",
   "metadata": {},
   "outputs": [],
   "source": [
    "comparison = pd.DataFrame({'Actual': y, 'Predicted': predAH})  \n",
    "#comparison"
   ]
  },
  {
   "cell_type": "markdown",
   "id": "d89361dd",
   "metadata": {},
   "source": [
    "### plot of Actual vs. Predicted Values for Abbey Hill (linear regression)"
   ]
  },
  {
   "cell_type": "code",
   "execution_count": 54,
   "id": "854fdee0",
   "metadata": {},
   "outputs": [],
   "source": [
    "# Ab_Hill.Price = Ab_Hill.Price.astype(float)\n",
    "# predAH = predAH.astype(float)\n",
    "\n",
    "# plt.scatter(Ab_Hill.Year, Ab_Hill.Price, color='black', label='Actual')\n",
    "# plt.plot(Ab_Hill.Year, predAH, color='red', linewidth=5, label='Predicted')\n",
    "\n",
    "# plt.title('Actual vs. Predicted Values for Abbey Hill (linear regression)')\n",
    "# plt.xlabel('Year')\n",
    "# plt.xticks(rotation=90)\n",
    "# plt.ylabel('Price')\n",
    "# plt.legend()\n",
    "# plt.show()\n",
    "\n",
    "\n"
   ]
  },
  {
   "cell_type": "markdown",
   "id": "df00959f",
   "metadata": {},
   "source": [
    "## Polynomial regression on the Abbey Hill data"
   ]
  },
  {
   "cell_type": "code",
   "execution_count": 55,
   "id": "e7c4cdf5",
   "metadata": {},
   "outputs": [
    {
     "name": "stdout",
     "output_type": "stream",
     "text": [
      "MSE: 157476607.67\n",
      "R2 score: 0.85\n",
      "Mean Absolute Error: 9685.512692479151\n"
     ]
    }
   ],
   "source": [
    "poly = PolynomialFeatures(degree=2)\n",
    "X_poly = poly.fit_transform(X)\n",
    "\n",
    "poly_reg = LinearRegression()\n",
    "poly_reg.fit(X_poly, y)\n",
    "\n",
    "predA= poly_reg.predict(X_poly)\n",
    "\n",
    "print('MSE: %.2f' % mean_squared_error(y, predA))\n",
    "print('R2 score: %.2f' % r2_score(y, predA))\n",
    "print(\"Mean Absolute Error:\", mean_absolute_error(y, predA))\n"
   ]
  },
  {
   "cell_type": "markdown",
   "id": "9484eb8f",
   "metadata": {},
   "source": [
    "### Actual vs. Predicted Values for Abbey Hill (polynomial regression)"
   ]
  },
  {
   "cell_type": "code",
   "execution_count": 56,
   "id": "1c27f47a",
   "metadata": {},
   "outputs": [],
   "source": [
    "# Ab_Hill.Price = Ab_Hill.Price.astype(float)\n",
    "# predA = predA.astype(float)\n",
    "\n",
    "# plt.scatter(Ab_Hill.Year, Ab_Hill.Price, color='black', label= 'actual')\n",
    "# plt.plot(Ab_Hill.Year, predA, color='b', linewidth=3, label= 'predicted')\n",
    "\n",
    "# plt.xticks(rotation=90)\n",
    "# plt.title('Actual vs. Predicted Values for Abbey Hill (Polynomial regression)')\n",
    "# plt.xlabel('Year')\n",
    "# plt.ylabel('Price')\n",
    "# plt.legend()\n",
    "# plt.show()\n",
    "\n",
    "\n",
    "\n",
    "\n"
   ]
  },
  {
   "cell_type": "markdown",
   "id": "915f541c",
   "metadata": {},
   "source": [
    "### Randomforest on Abbey Hill "
   ]
  },
  {
   "cell_type": "code",
   "execution_count": 57,
   "id": "42748dde",
   "metadata": {},
   "outputs": [
    {
     "name": "stdout",
     "output_type": "stream",
     "text": [
      "Mean squared error: 37489766.60716428\n",
      "R2 score: 0.963814525682736\n",
      "Mean Absolute Error: 4180.784285714286\n"
     ]
    }
   ],
   "source": [
    "rf2 = RandomForestRegressor(n_estimators=100, random_state=42)\n",
    "rf2.fit(X, y)\n",
    "y_predh = rf2.predict(X)\n",
    "\n",
    "print(\"Mean squared error:\", mean_squared_error(y, y_predh))\n",
    "print(\"R2 score:\", r2_score(y, y_predh))\n",
    "print(\"Mean Absolute Error:\", mean_absolute_error(y, y_predh))\n",
    "\n"
   ]
  },
  {
   "cell_type": "markdown",
   "id": "20136738",
   "metadata": {},
   "source": [
    "### Plot of the Actual vs. Predicted Values for Abbey Hill (RandomForest)'"
   ]
  },
  {
   "cell_type": "code",
   "execution_count": 58,
   "id": "fd84d493",
   "metadata": {},
   "outputs": [],
   "source": [
    "# y_predh = y_predh.astype(float)\n",
    "\n",
    "# plt.scatter(Ab_Hill.Year, Ab_Hill.Price, color='black', label='actual')\n",
    "# plt.plot(Ab_Hill.Year, y_predh, color='red', linewidth=5, label='predicted')\n",
    "\n",
    "# plt.xticks(rotation=90)\n",
    "# plt.title('Actual vs. Predicted Values for Abbey Hill (RandomForest)')\n",
    "# plt.xlabel('Year')\n",
    "# plt.ylabel('Price')\n",
    "# plt.legend()\n",
    "# plt.show()\n"
   ]
  },
  {
   "cell_type": "code",
   "execution_count": 59,
   "id": "001f165d",
   "metadata": {},
   "outputs": [],
   "source": [
    "Hart=g.get_group('Hart')\n",
    "#Hart"
   ]
  },
  {
   "cell_type": "markdown",
   "id": "a99a6542",
   "metadata": {},
   "source": [
    "### Box plot for the Hart data"
   ]
  },
  {
   "cell_type": "code",
   "execution_count": 60,
   "id": "11df3dca",
   "metadata": {},
   "outputs": [],
   "source": [
    "# fig = plt.figure(figsize =(6, 6))\n",
    "# ds = Hart.explode('Price')\n",
    "# ds['Price'] = ds['Price'].astype('float')\n",
    "# sns.boxplot(data=ds, x='Wardname', y='Price')"
   ]
  },
  {
   "cell_type": "code",
   "execution_count": 61,
   "id": "8ebe6317",
   "metadata": {},
   "outputs": [],
   "source": [
    "# fig = plt.figure(figsize =(7, 7))\n",
    "# df1 = Hart.explode('Price',ignore_index=False)\n",
    "# plt.scatter(Hart.Year,Hart.Price)\n",
    "# plt.grid('on')\n",
    "# plt.show()"
   ]
  },
  {
   "cell_type": "markdown",
   "id": "90a0d6c8",
   "metadata": {},
   "source": [
    "# linear regression on the Hart dataset"
   ]
  },
  {
   "cell_type": "code",
   "execution_count": 62,
   "id": "12c4d052",
   "metadata": {},
   "outputs": [
    {
     "name": "stdout",
     "output_type": "stream",
     "text": [
      "MSE: 582293549.14\n",
      "R2 score: 0.65\n",
      "Mean Absolute Error: 20764.408163265227\n"
     ]
    }
   ],
   "source": [
    "dh=Hart.drop('Wardname', axis=1)\n",
    "X_Ht=dh.drop('Price', axis=1)\n",
    "y_Ht=dh['Price']\n",
    "lgg=linear_model.LinearRegression()\n",
    "lgg.fit(X_Ht,y_Ht) # fitting the model to thedata\n",
    "pred1= lgg.predict(X_Ht)\n",
    "\n",
    "print('MSE: %.2f' % mean_squared_error(y_Ht, pred1))\n",
    "print('R2 score: %.2f' % r2_score( y_Ht,pred1))\n",
    "print(\"Mean Absolute Error:\", mean_absolute_error(y_Ht, pred1)) \n"
   ]
  },
  {
   "cell_type": "markdown",
   "id": "1a355258",
   "metadata": {},
   "source": [
    "### plot Actual vs Predicted Values of Hart data (linear regression)"
   ]
  },
  {
   "cell_type": "code",
   "execution_count": 63,
   "id": "b7bc0310",
   "metadata": {},
   "outputs": [],
   "source": [
    "# Hart.Price = Hart.Price.astype(float)\n",
    "# pred1 = pred1.astype(float)\n",
    "# plt.scatter(Hart.Year, Hart.Price, color='black', label='actual')\n",
    "# plt.plot(Hart.Year, pred1, color='red', linewidth=5, label='predicted' )\n",
    "\n",
    "# plt.xticks(rotation=90)\n",
    "# plt.title('Actual vs Predicted Values of Hart data (linear regression)')\n",
    "# plt.xlabel('Year')\n",
    "# plt.ylabel('Price')\n",
    "# plt.legend()\n",
    "# plt.show()"
   ]
  },
  {
   "cell_type": "markdown",
   "id": "628805a6",
   "metadata": {},
   "source": [
    "# Polynomial regression on the Hart data"
   ]
  },
  {
   "cell_type": "code",
   "execution_count": 64,
   "id": "85b07e80",
   "metadata": {},
   "outputs": [
    {
     "name": "stdout",
     "output_type": "stream",
     "text": [
      "MSE: 287269705.72\n",
      "R2 score: 0.83\n",
      "Mean Absolute Error: 13754.940936207771\n"
     ]
    }
   ],
   "source": [
    "\n",
    "poly = PolynomialFeatures(degree=2)\n",
    "X_poly = poly.fit_transform(X_Ht)\n",
    "\n",
    "poly_reg = LinearRegression()\n",
    "poly_reg.fit(X_poly, y_Ht)\n",
    "\n",
    "predH= poly_reg.predict(X_poly)\n",
    "\n",
    "print('MSE: %.2f' % mean_squared_error(y_Ht, predH))\n",
    "print('R2 score: %.2f' % r2_score(y_Ht, predH))\n",
    "print(\"Mean Absolute Error:\", mean_absolute_error(y_Ht, predH))\n"
   ]
  },
  {
   "cell_type": "code",
   "execution_count": 65,
   "id": "f0effb9f",
   "metadata": {},
   "outputs": [],
   "source": [
    "# predH =predH.astype(float)\n",
    "# plt.scatter(Hart.Year, Hart.Price, color='black', label='actual')\n",
    "# plt.plot(Hart.Year, predH, color='b', linewidth=5, label='predicted' )\n",
    "\n",
    "# plt.xticks(rotation=90)\n",
    "# plt.title('Actual vs Predicted Values of Hart data (Polynomial regression)')\n",
    "# plt.xlabel('Year')\n",
    "# plt.ylabel('Price')\n",
    "# plt.legend()\n",
    "# plt.show()"
   ]
  },
  {
   "cell_type": "code",
   "execution_count": 66,
   "id": "f84bfe1f",
   "metadata": {},
   "outputs": [],
   "source": [
    "comparison = pd.DataFrame({'Actual': y_Ht, 'Predicted': predH})  \n",
    "#comparison"
   ]
  },
  {
   "cell_type": "code",
   "execution_count": 67,
   "id": "bc5f01df",
   "metadata": {},
   "outputs": [
    {
     "name": "stdout",
     "output_type": "stream",
     "text": [
      "Mean squared error: 12580209.419550002\n",
      "R2 score: 0.9923946029299745\n",
      "Mean Absolute Error: 2781.267857142858\n"
     ]
    }
   ],
   "source": [
    "rf4 = RandomForestRegressor(n_estimators=100, random_state=42)\n",
    "rf4.fit(X_Ht, y_Ht)\n",
    "y_predr = rf4.predict(X_Ht)\n",
    "\n",
    "print(\"Mean squared error:\", mean_squared_error(y_Ht, y_predr))\n",
    "print(\"R2 score:\", r2_score(y_Ht, y_predr))\n",
    "print(\"Mean Absolute Error:\", mean_absolute_error(y_Ht, y_predr))\n"
   ]
  },
  {
   "cell_type": "code",
   "execution_count": 68,
   "id": "cc04f578",
   "metadata": {},
   "outputs": [],
   "source": [
    "# y_predr = y_predr.astype(float)\n",
    "\n",
    "# plt.scatter(Ab_Hill.Year, Ab_Hill.Price, color='black', label='actual')\n",
    "# plt.plot(Ab_Hill.Year, y_predr, color='g', linewidth=5, label='predicted')\n",
    "\n",
    "# plt.xticks(rotation=90)\n",
    "# plt.title('Actual vs. Predicted Values for Hart (RandomForest)')\n",
    "# plt.xlabel('Year')\n",
    "# plt.ylabel('Price')\n",
    "# plt.legend()\n",
    "# plt.show()"
   ]
  },
  {
   "cell_type": "code",
   "execution_count": 69,
   "id": "8e747d78",
   "metadata": {},
   "outputs": [],
   "source": [
    "Vn=g.get_group('Vaynor')\n",
    "#Vn"
   ]
  },
  {
   "cell_type": "code",
   "execution_count": 70,
   "id": "c2824500",
   "metadata": {},
   "outputs": [],
   "source": [
    "# fig = plt.figure(figsize =(7, 7))\n",
    "# dfv = Vn.explode('Price',ignore_index=False)\n",
    "# plt.scatter(Vn.Year,Vn.Price)\n",
    "# plt.grid('on')\n",
    "# plt.show()"
   ]
  },
  {
   "cell_type": "code",
   "execution_count": 71,
   "id": "6199499d",
   "metadata": {},
   "outputs": [],
   "source": [
    "# fig = plt.figure(figsize =(6, 6))\n",
    "\n",
    "# dfv['Price'] = dfv['Price'].astype('float')\n",
    "# sns.boxplot(data=dfv, x='Wardname', y='Price')\n"
   ]
  },
  {
   "cell_type": "markdown",
   "id": "51184493",
   "metadata": {},
   "source": [
    "# Linear regression on Vaynor data\n"
   ]
  },
  {
   "cell_type": "code",
   "execution_count": 72,
   "id": "27e1a002",
   "metadata": {},
   "outputs": [
    {
     "name": "stdout",
     "output_type": "stream",
     "text": [
      "MSE: 222473799.36\n",
      "R2 score: 0.84\n",
      "Mean Absolute Error: 10408.527836421903\n"
     ]
    }
   ],
   "source": [
    "df_vn=Vn.drop('Wardname', axis=1)\n",
    "X_Vn=df_vn.drop('Price', axis=1)\n",
    "y_Vn=df_vn['Price']\n",
    "Lr=linear_model.LinearRegression()\n",
    "Lr.fit(X_Vn,y_Vn) # fitting the model to thedata\n",
    "predV= Lr.predict(X_Vn)\n",
    "\n",
    "# Mean squared error (MSE)\n",
    "print('MSE: %.2f' % mean_squared_error(y_Vn, predV))\n",
    "\n",
    "# R2 score (coefficient of determination)\n",
    "print('R2 score: %.2f' % r2_score( y_Vn,predV))\n",
    "#Calculate the mean absolute error\n",
    "print(\"Mean Absolute Error:\", mean_absolute_error(y_Vn, predV))"
   ]
  },
  {
   "cell_type": "markdown",
   "id": "f26ee285",
   "metadata": {},
   "source": [
    "### Plot of Actual vs Predicted Values of Vaynor data (linear regression)"
   ]
  },
  {
   "cell_type": "code",
   "execution_count": 73,
   "id": "e4310bb1",
   "metadata": {},
   "outputs": [],
   "source": [
    "# Vn.Price = Vn.Price.astype(float)\n",
    "# predV = predV.astype(float)\n",
    "# # Plot actual and predicted values\n",
    "# plt.scatter(Vn.Year, Vn.Price, color='black', label='actual')\n",
    "# plt.plot(Vn.Year, predV, color='red', linewidth=3, label='predicted')\n",
    "\n",
    "# plt.xticks(rotation=90)\n",
    "# plt.title('Actual vs Predicted Values of Vaynor data (linear regression)')\n",
    "# plt.xlabel('Year')\n",
    "# plt.ylabel('Price')\n",
    "# plt.legend()\n",
    "# plt.show()\n"
   ]
  },
  {
   "cell_type": "markdown",
   "id": "131cf4db",
   "metadata": {},
   "source": [
    "# Polynomial regression"
   ]
  },
  {
   "cell_type": "code",
   "execution_count": 74,
   "id": "d79d1f88",
   "metadata": {},
   "outputs": [],
   "source": [
    "poly = PolynomialFeatures(degree=2)\n",
    "X_poly = poly.fit_transform(X_Vn)\n",
    "\n",
    "# Fit linear regression model to the polynomial features\n",
    "poly_reg = LinearRegression()\n",
    "poly_reg.fit(X_poly, y_Vn)\n",
    "\n",
    "# Predict on the polynomial features\n",
    "predVn= poly_reg.predict(X_poly)\n"
   ]
  },
  {
   "cell_type": "code",
   "execution_count": 75,
   "id": "fc081bcc",
   "metadata": {},
   "outputs": [
    {
     "name": "stdout",
     "output_type": "stream",
     "text": [
      "MSE: 219414139.31\n",
      "R2 score: 0.84\n",
      "Mean Absolute Error: 10270.424177533281\n"
     ]
    }
   ],
   "source": [
    "# Mean squared error (MSE)\n",
    "print('MSE: %.2f' % mean_squared_error(y_Vn, predVn))\n",
    "\n",
    "# R2 score (coefficient of determination)\n",
    "print('R2 score: %.2f' % r2_score( y_Vn,predVn))\n",
    "#Calculate the mean absolute error\n",
    "print(\"Mean Absolute Error:\", mean_absolute_error(y_Vn, predVn)) "
   ]
  },
  {
   "cell_type": "markdown",
   "id": "16eb0d79",
   "metadata": {},
   "source": [
    "### Plot of the Actual vs Predicted Values of Vaynor data (linear regression)"
   ]
  },
  {
   "cell_type": "code",
   "execution_count": 76,
   "id": "eb67e6b4",
   "metadata": {},
   "outputs": [],
   "source": [
    "# predVn = predVn.astype(float)\n",
    "# # Plot actual and predicted values\n",
    "# plt.scatter(Vn.Year, Vn.Price, color='black', label='actual')\n",
    "# plt.plot(Vn.Year, predVn, color='red', linewidth=3, label='predicted')\n",
    "\n",
    "\n",
    "# # Rotate x-axis labels to avoid overlap\n",
    "# plt.xticks(rotation=90)\n",
    "# plt.title('Actual vs Predicted Values of Vaynor data (Polynomial regression)')\n",
    "# plt.xlabel('Year')\n",
    "# plt.ylabel('Price')\n",
    "# plt.legend()\n",
    "# plt.show()\n",
    "\n",
    "\n"
   ]
  },
  {
   "cell_type": "markdown",
   "id": "eb72eade",
   "metadata": {},
   "source": [
    "### Perform Randomforest Regressor on Vaynor data"
   ]
  },
  {
   "cell_type": "code",
   "execution_count": 77,
   "id": "3839ed69",
   "metadata": {},
   "outputs": [
    {
     "name": "stdout",
     "output_type": "stream",
     "text": [
      "Mean squared error: 37415135.90401786\n",
      "R2 score: 0.9735357320239162\n",
      "Mean Absolute Error: 3919.0446428571427\n"
     ]
    }
   ],
   "source": [
    "rf4 = RandomForestRegressor(n_estimators=100, random_state=42)\n",
    "rf4.fit(X_Vn, y_Vn)\n",
    "y_predv = rf4.predict(X_Vn)\n",
    "\n",
    "print(\"Mean squared error:\", mean_squared_error(y_Vn, y_predv))\n",
    "print(\"R2 score:\", r2_score(y_Vn, y_predv))\n",
    "print(\"Mean Absolute Error:\", mean_absolute_error(y_Vn, y_predv))\n"
   ]
  },
  {
   "cell_type": "code",
   "execution_count": 78,
   "id": "db15351e",
   "metadata": {},
   "outputs": [],
   "source": [
    "# y_predv = y_predv.astype(float)\n",
    "\n",
    "# plt.scatter(Vn.Year, Vn.Price, color='black', label='actual')\n",
    "# plt.plot(Vn.Year, y_predv, color='g', linewidth=5, label='predicted')\n",
    "\n",
    "# plt.xticks(rotation=90)\n",
    "# plt.title('Actual vs. Predicted Values for Vaynor (RandomForest)')\n",
    "# plt.xlabel('Year')\n",
    "# plt.ylabel('Price')\n",
    "# plt.legend()\n",
    "# plt.show()"
   ]
  },
  {
   "cell_type": "markdown",
   "id": "f38cc6f1",
   "metadata": {},
   "source": [
    "### Perform linear regression,polynomial regression,random forest regression on each Ward group"
   ]
  },
  {
   "cell_type": "code",
   "execution_count": 79,
   "id": "62c19323",
   "metadata": {},
   "outputs": [],
   "source": [
    "def regression_by_ward(df):\n",
    "   \n",
    "\n",
    "    results = []\n",
    "    for ward, group in df.groupby('Wardname'):\n",
    "        # linear regression\n",
    "        X = group.drop(['Wardname', 'Price'], axis=1)\n",
    "        y = group['Price']\n",
    "        lr = LinearRegression()\n",
    "        lr.fit(X, y)\n",
    "        pred_lr = lr.predict(X)\n",
    "        mse_lr = mean_squared_error(y, pred_lr)\n",
    "        r2_lr = r2_score(y, pred_lr)\n",
    "        mae_lr = mean_absolute_error(y, pred_lr)\n",
    "\n",
    "        # polynomial regression \n",
    "        poly = PolynomialFeatures(degree=2)\n",
    "        X_poly = poly.fit_transform(X)\n",
    "        poly_rg = LinearRegression()\n",
    "        poly_rg.fit(X_poly, y)\n",
    "        pred_poly = poly_rg.predict(X_poly)\n",
    "        mse_poly = mean_squared_error(y, pred_poly)\n",
    "        r2_poly = r2_score(y, pred_poly)\n",
    "        mae_poly = mean_absolute_error(y, pred_poly)\n",
    "\n",
    "        # random forest regression\n",
    "        rf = RandomForestRegressor(n_estimators=100, random_state=42)\n",
    "        rf.fit(X, y)\n",
    "        pred_rf = rf.predict(X)\n",
    "        mse_rf = mean_squared_error(y, pred_rf)\n",
    "        r2_rf = r2_score(y, pred_rf)\n",
    "        mae_rf = mean_absolute_error(y, pred_rf)\n",
    "\n",
    "        # save results\n",
    "        result = {\n",
    "            'Wardname': ward,\n",
    "            'Linear MSE': mse_lr,\n",
    "            'Linear R2': r2_lr,\n",
    "            'Linear MAE': mae_lr,\n",
    "            'Poly MSE': mse_poly,\n",
    "            'Poly R2': r2_poly,\n",
    "            'Poly MAE': mae_poly,\n",
    "            'RF MSE': mse_rf,\n",
    "            'RF R2': r2_rf,\n",
    "            'RF MAE': mae_rf,\n",
    "        }\n",
    "        results.append(result)\n",
    "\n",
    "    return pd.DataFrame(results)\n"
   ]
  },
  {
   "cell_type": "code",
   "execution_count": 80,
   "id": "477351b6",
   "metadata": {},
   "outputs": [],
   "source": [
    "results = regression_by_ward(df)\n",
    "#print(results)"
   ]
  },
  {
   "cell_type": "code",
   "execution_count": null,
   "id": "16176c75-73fa-4f84-a86c-d49868cb7af7",
   "metadata": {},
   "outputs": [],
   "source": []
  }
 ],
 "metadata": {
  "kernelspec": {
   "display_name": "Python 3 (ipykernel)",
   "language": "python",
   "name": "python3"
  },
  "language_info": {
   "codemirror_mode": {
    "name": "ipython",
    "version": 3
   },
   "file_extension": ".py",
   "mimetype": "text/x-python",
   "name": "python",
   "nbconvert_exporter": "python",
   "pygments_lexer": "ipython3",
   "version": "3.11.7"
  }
 },
 "nbformat": 4,
 "nbformat_minor": 5
}
